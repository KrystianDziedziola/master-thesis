{
 "cells": [
  {
   "cell_type": "markdown",
   "metadata": {},
   "source": [
    "TODO: \n",
    "* modify pipeline, more options\n",
    "* test data as whole, not couple of chunks\n",
    "* visualisation for diagnosing\n",
    "\n",
    "\n",
    "Architectures:\n",
    "* conv2d\n",
    "* cnn + lstm: https://stats.stackexchange.com/questions/252095/sequence-classification-via-neural-networks"
   ]
  },
  {
   "cell_type": "code",
   "execution_count": 1,
   "metadata": {},
   "outputs": [],
   "source": [
    "from IPython.core.debugger import set_trace"
   ]
  },
  {
   "cell_type": "code",
   "execution_count": 2,
   "metadata": {},
   "outputs": [],
   "source": [
    "import numpy as np\n",
    "from numpy.random import seed\n",
    "seed(1)\n",
    "#display all values from array\n",
    "np.set_printoptions(threshold=np.nan)\n",
    "#display not in scientific format\n",
    "np.set_printoptions(suppress=True)\n",
    "\n",
    "# from tensorflow import set_random_seed\n",
    "# set_random_seed(2)\n",
    "\n",
    "from sklearn.model_selection import train_test_split, StratifiedKFold\n",
    "from sklearn.preprocessing import StandardScaler\n",
    "\n",
    "import pickle\n",
    "INPUT_DATA_FILE_PATH='tmp/input.pckl'"
   ]
  },
  {
   "cell_type": "code",
   "execution_count": 3,
   "metadata": {},
   "outputs": [],
   "source": [
    "DATA_FREQUENCY = 500\n",
    "SAMPLING_RATE = 5\n",
    "FREQUENCY_TO_SAMPLING_RATIO = DATA_FREQUENCY // SAMPLING_RATE\n",
    "CHUNK_SIZE_IN_SECONDS = 4"
   ]
  },
  {
   "cell_type": "code",
   "execution_count": 4,
   "metadata": {},
   "outputs": [],
   "source": [
    "from data_reader import read_data\n",
    "\n",
    "def load_data_to_file():\n",
    "    (input_data, target, headers) = read_data(data_path='data', \n",
    "                                              sampling_rate=SAMPLING_RATE, \n",
    "                                              data_frequency=DATA_FREQUENCY)\n",
    "\n",
    "    with open(INPUT_DATA_FILE_PATH, 'wb') as input_variable_file:\n",
    "        pickle.dump([input_data, target, headers], input_variable_file)\n",
    "\n",
    "    del input_data, target, headers\n",
    "    \n",
    "# load_data_to_file()"
   ]
  },
  {
   "cell_type": "code",
   "execution_count": 5,
   "metadata": {},
   "outputs": [],
   "source": [
    "from time import time\n",
    "import datetime\n",
    "\n",
    "def create_current_time():\n",
    "    timestamp = time()\n",
    "    return datetime.datetime.fromtimestamp(timestamp).strftime('%Y-%m-%d %H:%M:%S')"
   ]
  },
  {
   "cell_type": "code",
   "execution_count": 6,
   "metadata": {},
   "outputs": [],
   "source": [
    "from chunks_creator import prepare_chunks\n",
    "from chunks_creator import flatten_chunks\n",
    "\n",
    "def normalize(x, y):\n",
    "    scalers = {}\n",
    "    for channel_number in range(x.shape[1]):\n",
    "        scalers[channel_number] = StandardScaler()\n",
    "        x[:, channel_number, :] = scalers[channel_number].fit_transform(x[:, channel_number, :]) \n",
    "    return x, y.astype(int)\n",
    "\n",
    "\n",
    "def load_input_data():\n",
    "    with open(INPUT_DATA_FILE_PATH, 'rb') as input_data_file:\n",
    "        input_data, target, headers = pickle.load(input_data_file)\n",
    "    \n",
    "    return input_data, target, headers\n",
    "\n",
    "\n",
    "def prepare_data():\n",
    "    input_data, target, headers = load_input_data()\n",
    "    \n",
    "    chunks_input, chunks_target = prepare_chunks(input_data, \n",
    "                                                target, \n",
    "                                                chunk_size_in_seconds=CHUNK_SIZE_IN_SECONDS, \n",
    "                                                ratio=FREQUENCY_TO_SAMPLING_RATIO)\n",
    "    global x, y\n",
    "    x, y = flatten_chunks(chunks_input, chunks_target)\n",
    "    x, y = normalize(x, y)\n",
    "    \n",
    "    x_train, x_test, y_train, y_test = train_test_split(x, \n",
    "                                                        y, \n",
    "                                                        test_size=0.05)\n",
    "    return x_train, x_test, y_train, y_test"
   ]
  },
  {
   "cell_type": "code",
   "execution_count": 7,
   "metadata": {},
   "outputs": [
    {
     "name": "stderr",
     "output_type": "stream",
     "text": [
      "Using TensorFlow backend.\n"
     ]
    }
   ],
   "source": [
    "from keras.models import Sequential\n",
    "from keras.models import Sequential\n",
    "\n",
    "from keras.layers import Dense, Conv1D, MaxPooling1D, Flatten, Dropout, LSTM, BatchNormalization, Activation\n",
    "\n",
    "from keras.optimizers import RMSprop\n",
    "\n",
    "from keras import callbacks"
   ]
  },
  {
   "cell_type": "code",
   "execution_count": 8,
   "metadata": {},
   "outputs": [],
   "source": [
    "def callbacks_list(description): \n",
    "    return [\n",
    "#     callbacks.EarlyStopping(\n",
    "#         monitor='val_acc', \n",
    "#         patience=5\n",
    "#     ),\n",
    "    callbacks.ModelCheckpoint(\n",
    "        filepath='tmp/best_model.h5', \n",
    "        monitor='val_loss', \n",
    "        save_best_only=True\n",
    "    ),\n",
    "    callbacks.TensorBoard(\n",
    "        log_dir='tmp/logs/{}:{}'.format(description, create_current_time()),\n",
    "#         log_dir='tmp/logs/{}'.format(description),\n",
    "        histogram_freq=0, #it has to be 0, otherwise throws error during training\n",
    "        write_graph=True,\n",
    "        write_images=True\n",
    "    )\n",
    "]"
   ]
  },
  {
   "cell_type": "code",
   "execution_count": 9,
   "metadata": {},
   "outputs": [],
   "source": [
    "import inspect\n",
    "\n",
    "def get_function_name():\n",
    "    return inspect.stack()[1][3]"
   ]
  },
  {
   "cell_type": "code",
   "execution_count": 10,
   "metadata": {},
   "outputs": [],
   "source": [
    "# ~70-80% test, overfitting\n",
    "def conv_1D_62_32(input_shape):\n",
    "    description = get_function_name()\n",
    "    model = Sequential()\n",
    "    model.add(Conv1D(filters=64, kernel_size=6, padding='same', activation='relu', input_shape=input_shape))\n",
    "    model.add(MaxPooling1D(pool_size=2))\n",
    "    model.add(Dropout(0.5))\n",
    "    model.add(Conv1D(filters=32, kernel_size=3, padding='same', activation='relu'))\n",
    "    model.add(MaxPooling1D(pool_size=2))\n",
    "    model.add(Dropout(0.5))\n",
    "    model.add(Flatten())\n",
    "    model.add(Dense(128, activation='relu'))\n",
    "    model.add(Dense(1, activation='sigmoid'))\n",
    "    \n",
    "    return model, description\n",
    "\n",
    "#less overfitting\n",
    "def conv_1D_smaller_32_16(input_shape):\n",
    "    description = get_function_name()\n",
    "    model = Sequential()\n",
    "    model.add(Conv1D(filters=32, kernel_size=6, padding='same', activation='relu', input_shape=input_shape))\n",
    "    model.add(MaxPooling1D(pool_size=2))\n",
    "    model.add(Dropout(0.5))\n",
    "    model.add(Conv1D(filters=16, kernel_size=6, padding='same', activation='relu'))\n",
    "    model.add(MaxPooling1D(pool_size=2))\n",
    "    model.add(Dropout(0.5))\n",
    "    model.add(Flatten())\n",
    "    model.add(Dense(128, activation='relu'))\n",
    "    model.add(Dense(1, activation='sigmoid'))\n",
    "    \n",
    "    return model, description\n",
    "\n",
    "\n",
    "def testing(input_shape):\n",
    "    description = get_function_name()\n",
    "    \n",
    "    model = Sequential()\n",
    "    model.add(Conv1D(filters=32, kernel_size=6, padding='same', input_shape=input_shape))\n",
    "    model.add(BatchNormalization())\n",
    "    model.add(Activation('relu'))\n",
    "    model.add(MaxPooling1D(pool_size=2))\n",
    "    model.add(Dropout(0.5))\n",
    "    model.add(Conv1D(filters=16, kernel_size=6, padding='same'))\n",
    "    model.add(BatchNormalization())\n",
    "    model.add(Activation('relu'))\n",
    "    model.add(MaxPooling1D(pool_size=2))\n",
    "    model.add(Dropout(0.5))\n",
    "    model.add(Flatten())\n",
    "    model.add(Dense(128, activation='relu'))\n",
    "    model.add(Dense(1, activation='sigmoid'))\n",
    "    \n",
    "    return model, description"
   ]
  },
  {
   "cell_type": "code",
   "execution_count": 11,
   "metadata": {},
   "outputs": [],
   "source": [
    "def load_data_kfold(folds_number):\n",
    "    x_train, x_test, y_train, y_test = prepare_data()\n",
    "    \n",
    "    folds = list(StratifiedKFold(n_splits=folds_number, \n",
    "                                 shuffle=True, \n",
    "                                 random_state=1).split(x_train, y_train))\n",
    "    \n",
    "    return folds, x_train, y_train, x_test, y_test"
   ]
  },
  {
   "cell_type": "code",
   "execution_count": 28,
   "metadata": {},
   "outputs": [],
   "source": [
    "def run_pipeline(create_model, folds_number, epochs, learning_rate):\n",
    "    score = []\n",
    "    best_model_score = []\n",
    "    \n",
    "    folds, x_train, y_train, x_test, y_test = load_data_kfold(folds_number)\n",
    "    \n",
    "    for fold_number, (train_idx, val_idx) in enumerate(folds):\n",
    "        print('\\nFold: ', fold_number + 1)\n",
    "        x_train_cv = x_train[train_idx]\n",
    "        y_train_cv = y_train[train_idx]\n",
    "        x_valid_cv = x_train[val_idx]\n",
    "        y_valid_cv = y_train[val_idx]\n",
    "        \n",
    "        input_shape = x_train.shape[1:]\n",
    "\n",
    "        model, model_description = create_model(input_shape)\n",
    "        \n",
    "        description = \"lr = {}\".format(learning_rate)\n",
    "\n",
    "        callbacks = callbacks_list(\"{}. {}-{}\".format(model_description, \n",
    "                                                      description, \n",
    "                                                      fold_number))\n",
    "\n",
    "        model.compile(optimizer=RMSprop(lr=learning_rate),\n",
    "                      loss='binary_crossentropy',\n",
    "                      metrics=['acc'])\n",
    "\n",
    "        history = model.fit(x_train_cv,\n",
    "                            y_train_cv,\n",
    "                            epochs=epochs,\n",
    "                            batch_size=16,\n",
    "                            callbacks=callbacks,\n",
    "                            validation_data=(x_valid_cv, y_valid_cv),\n",
    "                            verbose=0)\n",
    "\n",
    "        score.append(model.evaluate(x_valid_cv, y_valid_cv, batch_size=16, verbose=0))\n",
    "\n",
    "        model.load_weights(\"tmp/best_model.h5\")\n",
    "        best_model_score.append(model.evaluate(x_valid_cv, y_valid_cv, batch_size=16, verbose=0))\n",
    "        \n",
    "        print(\"--Last epoch validation accuracy: %.2f%%\" % (score[fold_number][1]*100))\n",
    "        print(\"--Best model validation accuracy: %.2f%%\" % (best_model_score[fold_number][1]*100))\n",
    "        \n",
    "    return score, best_model_score"
   ]
  },
  {
   "cell_type": "code",
   "execution_count": 32,
   "metadata": {},
   "outputs": [
    {
     "name": "stdout",
     "output_type": "stream",
     "text": [
      "\n",
      "Fold:  1\n",
      "--Last epoch validation accuracy: 75.22%\n",
      "--Best model validation accuracy: 73.45%\n",
      "\n",
      "Fold:  2\n",
      "--Last epoch validation accuracy: 82.30%\n",
      "--Best model validation accuracy: 84.96%\n",
      "\n",
      "Fold:  3\n",
      "--Last epoch validation accuracy: 73.45%\n",
      "--Best model validation accuracy: 75.22%\n",
      "\n",
      "Fold:  4\n",
      "--Last epoch validation accuracy: 77.68%\n",
      "--Best model validation accuracy: 79.46%\n",
      "\n",
      "Fold:  5\n",
      "--Last epoch validation accuracy: 77.48%\n",
      "--Best model validation accuracy: 74.77%\n",
      "\n",
      "Fold:  6\n",
      "--Last epoch validation accuracy: 70.27%\n",
      "--Best model validation accuracy: 70.27%\n",
      "\n",
      "Fold:  7\n",
      "--Last epoch validation accuracy: 71.17%\n",
      "--Best model validation accuracy: 72.07%\n",
      "\n",
      "Fold:  8\n",
      "--Last epoch validation accuracy: 69.37%\n",
      "--Best model validation accuracy: 69.37%\n",
      "\n",
      "Fold:  9\n",
      "--Last epoch validation accuracy: 67.57%\n",
      "--Best model validation accuracy: 68.47%\n",
      "\n",
      "Fold:  10\n",
      "--Last epoch validation accuracy: 72.97%\n",
      "--Best model validation accuracy: 72.97%\n",
      "Average best models validation accuracy: 0.741020533327091\n"
     ]
    }
   ],
   "source": [
    "score, best_model_score = run_pipeline(create_model=conv_1D_smaller_32_16,\n",
    "                                       folds_number=10,\n",
    "                                       epochs=100,\n",
    "                                       learning_rate=3e-5)\n",
    "\n",
    "avg_accuracy = np.mean([row[1] for row in best_model_score])\n",
    "print(\"Average best models validation accuracy: {}\".format(avg_accuracy))"
   ]
  },
  {
   "cell_type": "code",
   "execution_count": null,
   "metadata": {},
   "outputs": [],
   "source": [
    "from plots_printer import draw_plots, draw_plots_with_chunks\n",
    "\n",
    "from matplotlib import pyplot as plt\n",
    "plt.rcParams['figure.figsize'] = [20, 5]"
   ]
  },
  {
   "cell_type": "code",
   "execution_count": null,
   "metadata": {},
   "outputs": [],
   "source": [
    "def plot_results(history):\n",
    "    import matplotlib.pyplot as plt\n",
    "\n",
    "    acc = history.history['acc']\n",
    "    val_acc = history.history['val_acc']\n",
    "    loss = history.history['loss']\n",
    "    val_loss = history.history['val_loss']\n",
    "    epochs = range(1, len(acc) + 1)\n",
    "\n",
    "    plt.plot(epochs, acc, 'bo', label='Training acc')\n",
    "    plt.plot(epochs, val_acc, 'b', label='Validation acc')\n",
    "    plt.title('Training and validation accuracy')\n",
    "    plt.legend()\n",
    "\n",
    "    plt.figure()\n",
    "    plt.plot(epochs, loss, 'bo', label='Training loss')\n",
    "    plt.plot(epochs, val_loss, 'b', label='Validation loss')\n",
    "    plt.title('Training and validation loss')\n",
    "    plt.legend()\n",
    "\n",
    "    plt.show()\n",
    "    \n",
    "# plot_results(history)\n",
    "# using view in tensorboard instead"
   ]
  },
  {
   "cell_type": "code",
   "execution_count": null,
   "metadata": {},
   "outputs": [],
   "source": [
    "input_data, target, headers = load_input_data()\n",
    "chunks_input, chunks_target = prepare_chunks(input_data, \n",
    "                                            target, \n",
    "                                            chunk_size_in_seconds=CHUNK_SIZE_IN_SECONDS, \n",
    "                                            ratio=FREQUENCY_TO_SAMPLING_RATIO)"
   ]
  },
  {
   "cell_type": "code",
   "execution_count": null,
   "metadata": {},
   "outputs": [],
   "source": [
    "draw_plots(input_data, \n",
    "           target, \n",
    "           headers, \n",
    "           patient=0, \n",
    "           start_second=900, \n",
    "           end_second=910,\n",
    "           ratio=FREQUENCY_TO_SAMPLING_RATIO)"
   ]
  },
  {
   "cell_type": "code",
   "execution_count": null,
   "metadata": {},
   "outputs": [],
   "source": [
    "draw_plots_with_chunks(input_data, target, headers, patient=0, chunks_input = chunks_input, to_pdf=False)"
   ]
  }
 ],
 "metadata": {
  "kernelspec": {
   "display_name": "Python 3",
   "language": "python",
   "name": "python3"
  },
  "language_info": {
   "codemirror_mode": {
    "name": "ipython",
    "version": 3
   },
   "file_extension": ".py",
   "mimetype": "text/x-python",
   "name": "python",
   "nbconvert_exporter": "python",
   "pygments_lexer": "ipython3",
   "version": "3.5.3"
  }
 },
 "nbformat": 4,
 "nbformat_minor": 2
}
