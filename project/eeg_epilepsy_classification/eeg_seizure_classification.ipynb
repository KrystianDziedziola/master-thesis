{
 "cells": [
  {
   "cell_type": "code",
   "execution_count": 15,
   "metadata": {},
   "outputs": [],
   "source": [
    "from IPython.core.debugger import set_trace"
   ]
  },
  {
   "cell_type": "code",
   "execution_count": 16,
   "metadata": {},
   "outputs": [],
   "source": [
    "import numpy as np\n",
    "from numpy.random import seed\n",
    "seed(1)\n",
    "#display all values from array\n",
    "np.set_printoptions(threshold=np.nan)\n",
    "#display not in scientific format\n",
    "np.set_printoptions(suppress=True)\n",
    "\n",
    "from tensorflow import set_random_seed\n",
    "set_random_seed(2)\n",
    "\n",
    "from sklearn.model_selection import train_test_split\n",
    "from sklearn.preprocessing import StandardScaler"
   ]
  },
  {
   "cell_type": "code",
   "execution_count": 17,
   "metadata": {},
   "outputs": [],
   "source": [
    "DATA_FREQUENCY = 500\n",
    "SAMPLING_RATE = 5\n",
    "FREQUENCY_TO_SAMPLING_RATIO = DATA_FREQUENCY // SAMPLING_RATE"
   ]
  },
  {
   "cell_type": "code",
   "execution_count": null,
   "metadata": {},
   "outputs": [
    {
     "name": "stdout",
     "output_type": "stream",
     "text": [
      "Loaded input file: 1\n",
      "Loaded input file: 2\n",
      "Loaded input file: 3\n",
      "Loaded input file: 4\n",
      "Loaded input file: 5\n",
      "Loaded input file: 6\n",
      "Loaded input file: 7\n",
      "Loaded input file: 8\n",
      "Loaded input file: 9\n",
      "Loaded input file: 10\n",
      "Loaded input file: 11\n",
      "Loaded input file: 12\n",
      "Loaded input file: 13\n",
      "Loaded input file: 14\n",
      "Loaded input file: 15\n",
      "Loaded input file: 16\n",
      "Loaded input file: 17\n",
      "Loaded input file: 18\n",
      "Loaded input file: 19\n",
      "Loaded input file: 20\n",
      "Loaded input file: 21\n",
      "Loaded input file: 22\n",
      "Loaded input file: 23\n"
     ]
    }
   ],
   "source": [
    "from data_reader import read_data\n",
    "\n",
    "(input, target, headers) = read_data(data_path='data', \n",
    "                                     sampling_rate=SAMPLING_RATE, \n",
    "                                     data_frequency=DATA_FREQUENCY)"
   ]
  },
  {
   "cell_type": "code",
   "execution_count": null,
   "metadata": {},
   "outputs": [],
   "source": [
    "def normalize(x):\n",
    "    scalers = {}\n",
    "    for channel_number in range(x.shape[1]):\n",
    "        scalers[channel_number] = StandardScaler()\n",
    "        x[:, channel_number, :] = scalers[channel_number].fit_transform(x[:, channel_number, :]) \n",
    "    return x"
   ]
  },
  {
   "cell_type": "code",
   "execution_count": null,
   "metadata": {},
   "outputs": [],
   "source": [
    "#data without normalization\n",
    "from chunks_creator import prepare_chunks\n",
    "from chunks_creator import flatten_chunks\n",
    "\n",
    "(chunks_input, chunks_target) = prepare_chunks(input, \n",
    "                                               target, \n",
    "                                               chunk_size_in_seconds=4, \n",
    "                                               ratio=FREQUENCY_TO_SAMPLING_RATIO)\n",
    "(x, y) = flatten_chunks(chunks_input, chunks_target)\n",
    "\n",
    "x = normalize(x)\n",
    "    \n",
    "x_train, x_test, y_train, y_test = train_test_split(x, y, test_size=0.10, random_state=42)"
   ]
  },
  {
   "cell_type": "code",
   "execution_count": null,
   "metadata": {},
   "outputs": [],
   "source": [
    "#callbacks\n",
    "from keras import callbacks\n",
    "\n",
    "callbacks_list = [\n",
    "    callbacks.EarlyStopping(\n",
    "        monitor='acc', \n",
    "        patience=4\n",
    "    ),\n",
    "#     callbacks.ModelCheckpoint(\n",
    "#         filepath='best_model.h5', \n",
    "#         monitor='val_loss', \n",
    "#         save_best_only=True\n",
    "#     ),\n",
    "#     callbacks.TensorBoard(\n",
    "#         log_dir='logs',\n",
    "#         histogram_freq=1\n",
    "#     )\n",
    "]"
   ]
  },
  {
   "cell_type": "code",
   "execution_count": null,
   "metadata": {},
   "outputs": [],
   "source": [
    "from keras.models import Sequential\n",
    "from keras import layers\n",
    "from keras.optimizers import RMSprop\n",
    "\n",
    "model = Sequential()\n",
    "model.add(layers.Flatten(input_shape=(400, 16)))\n",
    "model.add(layers.Dense(1000, activation='relu'))\n",
    "model.add(layers.Dense(30, activation='relu'))\n",
    "model.add(layers.Dense(1, activation='sigmoid'))\n",
    "\n",
    "model.compile(optimizer='rmsprop',\n",
    "              loss='binary_crossentropy',\n",
    "              metrics=['acc'])\n",
    "\n",
    "history = model.fit(x_train,\n",
    "                    y_train,\n",
    "                    epochs=100,\n",
    "                    batch_size=64,\n",
    "                    validation_data=(x_test, y_test),\n",
    "                    callbacks=callbacks_list,\n",
    "                    shuffle=False\n",
    "#                     validation_split=0.05\n",
    "                   )\n",
    "\n",
    "score = model.evaluate(x_test, y_test, batch_size=64)\n",
    "print(\"Accuracy: %.2f%%\" % (score[1]*100))"
   ]
  },
  {
   "cell_type": "code",
   "execution_count": null,
   "metadata": {},
   "outputs": [],
   "source": [
    "from plots_printer import draw_plots, draw_plots_with_chunks\n",
    "\n",
    "from matplotlib import pyplot as plt\n",
    "plt.rcParams['figure.figsize'] = [20, 5]"
   ]
  },
  {
   "cell_type": "code",
   "execution_count": null,
   "metadata": {},
   "outputs": [],
   "source": [
    "draw_plots(input, \n",
    "           target, \n",
    "           headers, \n",
    "           patient=0, \n",
    "           start_second=900, \n",
    "           end_second=910,\n",
    "           ratio=FREQUENCY_TO_SAMPLING_RATIO)"
   ]
  },
  {
   "cell_type": "code",
   "execution_count": null,
   "metadata": {},
   "outputs": [],
   "source": [
    "draw_plots_with_chunks(input, target, headers, patient=0, chunks_input = chunks_input, to_pdf=False)"
   ]
  }
 ],
 "metadata": {
  "kernelspec": {
   "display_name": "Python 3",
   "language": "python",
   "name": "python3"
  },
  "language_info": {
   "codemirror_mode": {
    "name": "ipython",
    "version": 3
   },
   "file_extension": ".py",
   "mimetype": "text/x-python",
   "name": "python",
   "nbconvert_exporter": "python",
   "pygments_lexer": "ipython3",
   "version": "3.5.3"
  }
 },
 "nbformat": 4,
 "nbformat_minor": 2
}
