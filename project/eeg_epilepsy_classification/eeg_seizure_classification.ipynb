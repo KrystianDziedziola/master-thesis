{
 "cells": [
  {
   "cell_type": "markdown",
   "metadata": {},
   "source": [
    "TODO: \n",
    "* modify pipeline, more options\n",
    "* test data as whole, not couple of chunks\n",
    "* visualisation for diagnosing"
   ]
  },
  {
   "cell_type": "code",
   "execution_count": 5,
   "metadata": {},
   "outputs": [],
   "source": [
    "from IPython.core.debugger import set_trace"
   ]
  },
  {
   "cell_type": "code",
   "execution_count": 6,
   "metadata": {},
   "outputs": [],
   "source": [
    "import numpy as np\n",
    "from numpy.random import seed\n",
    "seed(1)\n",
    "#display all values from array\n",
    "np.set_printoptions(threshold=np.nan)\n",
    "#display not in scientific format\n",
    "np.set_printoptions(suppress=True)\n",
    "\n",
    "from tensorflow import set_random_seed\n",
    "set_random_seed(2)\n",
    "\n",
    "from sklearn.model_selection import train_test_split\n",
    "from sklearn.preprocessing import StandardScaler\n",
    "\n",
    "import pickle\n",
    "INPUT_DATA_FILE_PATH='tmp/input.pckl'"
   ]
  },
  {
   "cell_type": "code",
   "execution_count": 7,
   "metadata": {},
   "outputs": [],
   "source": [
    "DATA_FREQUENCY = 500\n",
    "SAMPLING_RATE = 5\n",
    "FREQUENCY_TO_SAMPLING_RATIO = DATA_FREQUENCY // SAMPLING_RATE\n",
    "CHUNK_SIZE_IN_SECONDS = 4"
   ]
  },
  {
   "cell_type": "code",
   "execution_count": null,
   "metadata": {},
   "outputs": [],
   "source": [
    "from data_reader import read_data\n",
    "\n",
    "(input_data, target, headers) = read_data(data_path='data', \n",
    "                                          sampling_rate=SAMPLING_RATE, \n",
    "                                          data_frequency=DATA_FREQUENCY)\n",
    "\n",
    "with open(INPUT_DATA_FILE_PATH, 'wb') as input_variable_file:\n",
    "    pickle.dump([input_data, target, headers], input_variable_file)\n",
    "\n",
    "del input_data, target, headers"
   ]
  },
  {
   "cell_type": "code",
   "execution_count": 9,
   "metadata": {},
   "outputs": [],
   "source": [
    "from time import time\n",
    "import datetime\n",
    "\n",
    "def create_current_time():\n",
    "    timestamp = time()\n",
    "    return datetime.datetime.fromtimestamp(timestamp).strftime('%Y-%m-%d %H:%M:%S')"
   ]
  },
  {
   "cell_type": "code",
   "execution_count": 10,
   "metadata": {},
   "outputs": [],
   "source": [
    "from chunks_creator import prepare_chunks\n",
    "from chunks_creator import flatten_chunks\n",
    "\n",
    "def normalize(x, y):\n",
    "    scalers = {}\n",
    "    for channel_number in range(x.shape[1]):\n",
    "        scalers[channel_number] = StandardScaler()\n",
    "        x[:, channel_number, :] = scalers[channel_number].fit_transform(x[:, channel_number, :]) \n",
    "    return x, y.astype(int)\n",
    "\n",
    "\n",
    "def load_input_data():\n",
    "    with open(INPUT_DATA_FILE_PATH, 'rb') as input_data_file:\n",
    "        input_data, target, headers = pickle.load(input_data_file)\n",
    "    \n",
    "    return input_data, target, headers\n",
    "\n",
    "\n",
    "def prepare_data():\n",
    "    input_data, target, headers = load_input_data()\n",
    "    \n",
    "    chunks_input, chunks_target = prepare_chunks(input_data, \n",
    "                                                target, \n",
    "                                                chunk_size_in_seconds=CHUNK_SIZE_IN_SECONDS, \n",
    "                                                ratio=FREQUENCY_TO_SAMPLING_RATIO)\n",
    "    x, y = flatten_chunks(chunks_input, chunks_target)\n",
    "    x, y = normalize(x, y)\n",
    "\n",
    "    x_train, x_test, y_train, y_test = train_test_split(x, \n",
    "                                                        y, \n",
    "                                                        test_size=0.05, \n",
    "                                                        # later delete this seed\n",
    "                                                        random_state=42)\n",
    "    return x_train, x_test, y_train, y_test"
   ]
  },
  {
   "cell_type": "code",
   "execution_count": 11,
   "metadata": {},
   "outputs": [
    {
     "name": "stderr",
     "output_type": "stream",
     "text": [
      "Using TensorFlow backend.\n"
     ]
    }
   ],
   "source": [
    "from keras.models import Sequential\n",
    "from keras.models import Sequential\n",
    "\n",
    "from keras.layers import Dense, Conv1D, MaxPooling1D, Flatten, Dropout, LSTM\n",
    "\n",
    "from keras.optimizers import RMSprop\n",
    "\n",
    "from keras import callbacks"
   ]
  },
  {
   "cell_type": "code",
   "execution_count": 12,
   "metadata": {},
   "outputs": [],
   "source": [
    "def callbacks_list(description): \n",
    "    return [\n",
    "#     callbacks.EarlyStopping(\n",
    "#         monitor='val_acc', \n",
    "#         patience=5\n",
    "#     ),\n",
    "    callbacks.ModelCheckpoint(\n",
    "        filepath='tmp/best_model.h5', \n",
    "        monitor='val_loss', \n",
    "        save_best_only=True\n",
    "    ),\n",
    "    callbacks.TensorBoard(\n",
    "        log_dir='tmp/logs/{}:{}'.format(description, create_current_time()),\n",
    "        histogram_freq=0, #it has to be 0, otherwise throws error during training\n",
    "        write_graph=True,\n",
    "        write_images=True\n",
    "    )\n",
    "]"
   ]
  },
  {
   "cell_type": "code",
   "execution_count": 13,
   "metadata": {},
   "outputs": [],
   "source": [
    "def create_fully_connected_model(input_shape):\n",
    "    model = Sequential()\n",
    "    model.add(layers.Flatten(input_shape=input_shape))\n",
    "    model.add(layers.Dense(1000, activation='relu'))\n",
    "    model.add(layers.Dense(30, activation='relu'))\n",
    "    model.add(layers.Dense(1, activation='sigmoid'))\n",
    "    \n",
    "    return model"
   ]
  },
  {
   "cell_type": "code",
   "execution_count": 14,
   "metadata": {},
   "outputs": [],
   "source": [
    "def create_lstm_model(input_shape):\n",
    "    model = Sequential()\n",
    "    model.add(LSTM(100, return_sequences=False, input_shape=input_shape))\n",
    "    # model.add(Dropout(0.5))\n",
    "    #model.add(LSTM(100))\n",
    "    model.add(Dense(1, activation='sigmoid'))\n",
    "    \n",
    "    return model"
   ]
  },
  {
   "cell_type": "code",
   "execution_count": 15,
   "metadata": {},
   "outputs": [],
   "source": [
    "from keras.layers import Dense, Embedding, SimpleRNN\n",
    "\n",
    "def create_simple_rnn_model(input_shape):\n",
    "    model = Sequential()\n",
    "    model.add(SimpleRNN(32, input_shape=input_shape))\n",
    "    model.add(Dense(1, activation='sigmoid'))\n",
    "    \n",
    "    return model"
   ]
  },
  {
   "cell_type": "code",
   "execution_count": 54,
   "metadata": {},
   "outputs": [],
   "source": [
    "import inspect\n",
    "\n",
    "def get_function_name():\n",
    "    return inspect.stack()[1][3]"
   ]
  },
  {
   "cell_type": "code",
   "execution_count": 55,
   "metadata": {},
   "outputs": [],
   "source": [
    "# ~70-80% test, overfitting\n",
    "def conv_1D_62_32(input_shape):\n",
    "    description = get_function_name()\n",
    "    model = Sequential()\n",
    "    model.add(Conv1D(filters=64, kernel_size=6, padding='same', activation='relu', input_shape=input_shape))\n",
    "    model.add(MaxPooling1D(pool_size=2))\n",
    "    model.add(Dropout(0.5))\n",
    "    model.add(Conv1D(filters=32, kernel_size=3, padding='same', activation='relu'))\n",
    "    model.add(MaxPooling1D(pool_size=2))\n",
    "    model.add(Dropout(0.5))\n",
    "    model.add(Flatten())\n",
    "    model.add(Dense(128, activation='relu'))\n",
    "    model.add(Dense(1, activation='sigmoid'))\n",
    "    \n",
    "    return model, description\n",
    "\n",
    "#less overfitting\n",
    "def conv_1D_smaller_32_16(input_shape):\n",
    "    description = get_function_name()\n",
    "    model = Sequential()\n",
    "    model.add(Conv1D(filters=32, kernel_size=6, padding='same', activation='relu', input_shape=input_shape))\n",
    "    model.add(MaxPooling1D(pool_size=2))\n",
    "    model.add(Dropout(0.5))\n",
    "    model.add(Conv1D(filters=16, kernel_size=6, padding='same', activation='relu'))\n",
    "    model.add(MaxPooling1D(pool_size=2))\n",
    "    model.add(Dropout(0.5))\n",
    "    model.add(Flatten())\n",
    "    model.add(Dense(128, activation='relu'))\n",
    "    model.add(Dense(1, activation='sigmoid'))\n",
    "    \n",
    "    return model, description"
   ]
  },
  {
   "cell_type": "code",
   "execution_count": 56,
   "metadata": {},
   "outputs": [],
   "source": [
    "def run_pipeline(create_model, iterations):\n",
    "    score = []\n",
    "    best_model_score = []\n",
    "    \n",
    "    x_train, x_test, y_train, y_test = prepare_data()\n",
    "    \n",
    "    for iteration in range(0, iterations):\n",
    "        input_shape = x_train.shape[1:]\n",
    "\n",
    "        model, model_description = create_model(input_shape)\n",
    "    \n",
    "        learning_rate = 0.0001\n",
    "        description = \"lr = {}\".format(learning_rate)\n",
    "\n",
    "        model.compile(optimizer=RMSprop(lr=learning_rate),\n",
    "                      loss='binary_crossentropy',\n",
    "                      metrics=['acc'])\n",
    "\n",
    "        history = model.fit(x_train,\n",
    "                            y_train,\n",
    "                            epochs=100,\n",
    "                            batch_size=16,\n",
    "                            callbacks=callbacks_list(\"{}. {}-{}\".format(model_description, description, iteration)),\n",
    "                            validation_split=0.1,\n",
    "                            verbose=0)\n",
    "\n",
    "        score.append(model.evaluate(x_test, y_test, batch_size=16))\n",
    "        \n",
    "        model.load_weights(\"tmp/best_model.h5\")\n",
    "        best_model_score.append(model.evaluate(x_test, y_test, batch_size=16))\n",
    "        \n",
    "        print(\"Finished iteration {}\".format(iteration))\n",
    "        \n",
    "    return score, best_model_score"
   ]
  },
  {
   "cell_type": "code",
   "execution_count": 57,
   "metadata": {},
   "outputs": [
    {
     "name": "stdout",
     "output_type": "stream",
     "text": [
      "59/59 [==============================] - 0s 1ms/step\n",
      "59/59 [==============================] - 0s 247us/step\n",
      "Finished iteration 0\n",
      "59/59 [==============================] - 0s 141us/step\n",
      "59/59 [==============================] - 0s 167us/step\n",
      "Finished iteration 0\n"
     ]
    }
   ],
   "source": [
    "iterations = 1\n",
    "score, best_model_score = run_pipeline(conv_1D_62_32,\n",
    "                                       iterations)\n",
    "score, best_model_score = run_pipeline(conv_1D_smaller_32_16,\n",
    "                                       iterations)"
   ]
  },
  {
   "cell_type": "code",
   "execution_count": 58,
   "metadata": {},
   "outputs": [
    {
     "name": "stdout",
     "output_type": "stream",
     "text": [
      "Test accuracy:\n",
      "-Iteration: 0\n",
      "--Last epoch accuracy: 72.88%\n",
      "--Best model accuracy: 72.88%\n"
     ]
    }
   ],
   "source": [
    "print(\"Test accuracy:\")\n",
    "for iteration in range(0, iterations):\n",
    "    print(\"-Iteration: {}\".format(iteration))\n",
    "    print(\"--Last epoch accuracy: %.2f%%\" % (score[iteration][1]*100))\n",
    "    print(\"--Best model accuracy: %.2f%%\" % (best_model_score[iteration][1]*100))"
   ]
  },
  {
   "cell_type": "code",
   "execution_count": null,
   "metadata": {},
   "outputs": [],
   "source": [
    "from plots_printer import draw_plots, draw_plots_with_chunks\n",
    "\n",
    "from matplotlib import pyplot as plt\n",
    "plt.rcParams['figure.figsize'] = [20, 5]"
   ]
  },
  {
   "cell_type": "code",
   "execution_count": 8,
   "metadata": {},
   "outputs": [],
   "source": [
    "def plot_results(history):\n",
    "    import matplotlib.pyplot as plt\n",
    "\n",
    "    acc = history.history['acc']\n",
    "    val_acc = history.history['val_acc']\n",
    "    loss = history.history['loss']\n",
    "    val_loss = history.history['val_loss']\n",
    "    epochs = range(1, len(acc) + 1)\n",
    "\n",
    "    plt.plot(epochs, acc, 'bo', label='Training acc')\n",
    "    plt.plot(epochs, val_acc, 'b', label='Validation acc')\n",
    "    plt.title('Training and validation accuracy')\n",
    "    plt.legend()\n",
    "\n",
    "    plt.figure()\n",
    "    plt.plot(epochs, loss, 'bo', label='Training loss')\n",
    "    plt.plot(epochs, val_loss, 'b', label='Validation loss')\n",
    "    plt.title('Training and validation loss')\n",
    "    plt.legend()\n",
    "\n",
    "    plt.show()\n",
    "    \n",
    "# plot_results(history)\n",
    "# using view in tensorboard instead"
   ]
  },
  {
   "cell_type": "code",
   "execution_count": null,
   "metadata": {},
   "outputs": [],
   "source": [
    "input_data, target, headers = load_input_data()\n",
    "chunks_input, chunks_target = prepare_chunks(input_data, \n",
    "                                            target, \n",
    "                                            chunk_size_in_seconds=CHUNK_SIZE_IN_SECONDS, \n",
    "                                            ratio=FREQUENCY_TO_SAMPLING_RATIO)"
   ]
  },
  {
   "cell_type": "code",
   "execution_count": null,
   "metadata": {},
   "outputs": [],
   "source": [
    "draw_plots(input_data, \n",
    "           target, \n",
    "           headers, \n",
    "           patient=0, \n",
    "           start_second=900, \n",
    "           end_second=910,\n",
    "           ratio=FREQUENCY_TO_SAMPLING_RATIO)"
   ]
  },
  {
   "cell_type": "code",
   "execution_count": null,
   "metadata": {},
   "outputs": [],
   "source": [
    "draw_plots_with_chunks(input_data, target, headers, patient=0, chunks_input = chunks_input, to_pdf=False)"
   ]
  }
 ],
 "metadata": {
  "kernelspec": {
   "display_name": "Python 3",
   "language": "python",
   "name": "python3"
  },
  "language_info": {
   "codemirror_mode": {
    "name": "ipython",
    "version": 3
   },
   "file_extension": ".py",
   "mimetype": "text/x-python",
   "name": "python",
   "nbconvert_exporter": "python",
   "pygments_lexer": "ipython3",
   "version": "3.5.3"
  }
 },
 "nbformat": 4,
 "nbformat_minor": 2
}
